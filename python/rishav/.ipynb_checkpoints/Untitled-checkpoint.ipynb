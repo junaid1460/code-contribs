{
 "cells": [
  {
   "cell_type": "code",
   "execution_count": 2,
   "metadata": {
    "collapsed": true
   },
   "outputs": [],
   "source": [
    "import sqlite3 as sql"
   ]
  },
  {
   "cell_type": "code",
   "execution_count": 7,
   "metadata": {},
   "outputs": [],
   "source": [
    "connection = sql.connect(\"localdb\")"
   ]
  },
  {
   "cell_type": "code",
   "execution_count": 11,
   "metadata": {},
   "outputs": [],
   "source": [
    "cursor = connection.cursor()"
   ]
  },
  {
   "cell_type": "code",
   "execution_count": 51,
   "metadata": {},
   "outputs": [
    {
     "data": {
      "text/plain": [
       "['create table Player(id int,name varchar, attributes int,team varchar)',\n",
       " \"insert into Player values(1,'Ronaldo',93,'Real Madrid')\",\n",
       " \"insert into Player values(2,'Bale',90,'Real Madrid')\",\n",
       " \"insert into Player values(3,'Asensio',82,'Real Madrid')\",\n",
       " \"insert into Player values(4,'Navas',83,'Real Madrid')\",\n",
       " \"insert into Player values(5,'Ramos',90,'Real Madrid')\",\n",
       " \"insert into Player values(6,'Buffon',89,'Juventus')\",\n",
       " \"  insert into Player values(7,'Cheillini',82,'Juventus')\",\n",
       " \"insert into Player values(8,'Higuain',84,'Juventus')\",\n",
       " \"insert into Player values(9,'Khedira',86,'Juventus')\",\n",
       " \" insert into Player values(10,'Rugani',79,'Juventus')\",\n",
       " \"insert into Player values(11,'Donnarumma',82,'A C Milan')\",\n",
       " \"insert into Player values(12,'Zapata',84,'A C Milan')\",\n",
       " \"insert into player values(13,'Biglia',79,'A C Milan')\",\n",
       " \"insert into Player values(14,'Suso',78,'A C Milan')\",\n",
       " \" insert into Player values(15,'Borini',78,'A C Milan')\",\n",
       " \" insert into Player values(16,'Messi',92,'Barcelona')\",\n",
       " \" insert into Player values(17,'Bravo',85,'Barcelona')\",\n",
       " \" insert into Player values(18,'Pique',86,'Barcelona')\",\n",
       " \" insert into Player values(19,'Suarez',90,'Barcelona')\",\n",
       " \"insert into Player values(20,'Iniesta',89,'Barcelona')\",\n",
       " \"insert into Player values(21,'Zlatan',91,'Manchester United')\",\n",
       " \"insert into Player values(22,'Pogba',86,'Manchester United')\",\n",
       " \"insert into Player values(23,'Lukaku',83,'Manchester United')\",\n",
       " \"insert into Player values(24,'DeGea',91,'Manchester United')\",\n",
       " \"insert into Player values(25,'Fellani',84,'Manchester United')\",\n",
       " \"insert into Player values(26,'Sanchez',87,'Arsenal')\",\n",
       " \" insert into Player values(27,'Ozil',85,'Arsenal')\",\n",
       " \"insert into Player values(28,'Chez',82,'Arsenal')\",\n",
       " \" insert into Player values(29,'Lacazette',86,'Arsenal')\",\n",
       " \"insert into Player values(30,'Ramsey',85,'Arsenal')\",\n",
       " \" insert into Player values(31,'Lewandoski',88,'Bayren Munich')\",\n",
       " \"insert into Player values(32,'Robben',90,'Bayren Munich')\",\n",
       " \"  insert into Player values(33,'Nuyer',92,'Bayren Munich')\",\n",
       " \" insert into Player values(34,'Hummelz',90,'Bayren Munich')\",\n",
       " \"insert into Player values(35,'Muler',89,'Bayren Munich')\",\n",
       " \"  insert into Player values(36,'Burki',82,'Dortmund')\",\n",
       " \"insert into Player values(37,'Gotze',82,'Dortmund')\",\n",
       " \"insert into Player values(38,'Rues',90,'Dortmund')\",\n",
       " \" insert into Player values(39,'Philip',78,'Dortmund')\",\n",
       " \"insert into Player values(40,'Castro',84,'Dortmund')\",\n",
       " '   ']"
      ]
     },
     "execution_count": 51,
     "metadata": {},
     "output_type": "execute_result"
    }
   ],
   "source": [
    "q = open(\"./queries.sql\").read()\n",
    "q = q.split(';')\n",
    "out = []\n",
    "for i in q:\n",
    "    out.append(i.replace('\\n', ''))\n",
    "out"
   ]
  },
  {
   "cell_type": "code",
   "execution_count": null,
   "metadata": {
    "collapsed": true
   },
   "outputs": [],
   "source": []
  },
  {
   "cell_type": "code",
   "execution_count": 54,
   "metadata": {},
   "outputs": [],
   "source": [
    "try:\n",
    "    for line in out:\n",
    "        cursor.execute(line)\n",
    "    print(\"Executed successfully\")\n",
    "except:\n",
    "    pass"
   ]
  },
  {
   "cell_type": "code",
   "execution_count": 58,
   "metadata": {},
   "outputs": [],
   "source": [
    "res = cursor.execute(\"select * from Player\")"
   ]
  },
  {
   "cell_type": "raw",
   "metadata": {},
   "source": []
  },
  {
   "cell_type": "code",
   "execution_count": null,
   "metadata": {
    "collapsed": true
   },
   "outputs": [],
   "source": []
  },
  {
   "cell_type": "code",
   "execution_count": null,
   "metadata": {
    "collapsed": true
   },
   "outputs": [],
   "source": []
  },
  {
   "cell_type": "code",
   "execution_count": null,
   "metadata": {
    "collapsed": true
   },
   "outputs": [],
   "source": []
  },
  {
   "cell_type": "code",
   "execution_count": null,
   "metadata": {
    "collapsed": true
   },
   "outputs": [],
   "source": []
  },
  {
   "cell_type": "code",
   "execution_count": null,
   "metadata": {
    "collapsed": true
   },
   "outputs": [],
   "source": []
  },
  {
   "cell_type": "code",
   "execution_count": null,
   "metadata": {
    "collapsed": true
   },
   "outputs": [],
   "source": [
    "\n",
    "\n",
    "\n",
    "\n",
    "\n",
    "\n",
    "\n",
    "\n",
    "\n",
    "\n",
    "\n",
    "\n",
    "\n"
   ]
  }
 ],
 "metadata": {
  "kernelspec": {
   "display_name": "Python 3",
   "language": "python",
   "name": "python3"
  },
  "language_info": {
   "codemirror_mode": {
    "name": "ipython",
    "version": 3
   },
   "file_extension": ".py",
   "mimetype": "text/x-python",
   "name": "python",
   "nbconvert_exporter": "python",
   "pygments_lexer": "ipython3",
   "version": "3.5.2"
  }
 },
 "nbformat": 4,
 "nbformat_minor": 2
}
