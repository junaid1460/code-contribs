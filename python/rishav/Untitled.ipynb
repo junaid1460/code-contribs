{
 "cells": [
  {
   "cell_type": "code",
   "execution_count": 2,
   "metadata": {
    "collapsed": true
   },
   "outputs": [],
   "source": []
  },
  {
   "cell_type": "code",
   "execution_count": 61,
   "metadata": {},
   "outputs": [
    {
     "data": {
      "text/plain": [
       "[(1, 'Ronaldo', 93, 'Real Madrid'),\n",
       " (2, 'Bale', 90, 'Real Madrid'),\n",
       " (3, 'Asensio', 82, 'Real Madrid'),\n",
       " (4, 'Navas', 83, 'Real Madrid'),\n",
       " (5, 'Ramos', 90, 'Real Madrid'),\n",
       " (6, 'Buffon', 89, 'Juventus'),\n",
       " (7, 'Cheillini', 82, 'Juventus'),\n",
       " (8, 'Higuain', 84, 'Juventus'),\n",
       " (9, 'Khedira', 86, 'Juventus'),\n",
       " (10, 'Rugani', 79, 'Juventus'),\n",
       " (11, 'Donnarumma', 82, 'A C Milan'),\n",
       " (12, 'Zapata', 84, 'A C Milan'),\n",
       " (13, 'Biglia', 79, 'A C Milan'),\n",
       " (14, 'Suso', 78, 'A C Milan'),\n",
       " (15, 'Borini', 78, 'A C Milan'),\n",
       " (16, 'Messi', 92, 'Barcelona'),\n",
       " (17, 'Bravo', 85, 'Barcelona'),\n",
       " (18, 'Pique', 86, 'Barcelona'),\n",
       " (19, 'Suarez', 90, 'Barcelona'),\n",
       " (20, 'Iniesta', 89, 'Barcelona'),\n",
       " (21, 'Zlatan', 91, 'Manchester United'),\n",
       " (22, 'Pogba', 86, 'Manchester United'),\n",
       " (23, 'Lukaku', 83, 'Manchester United'),\n",
       " (24, 'DeGea', 91, 'Manchester United'),\n",
       " (25, 'Fellani', 84, 'Manchester United'),\n",
       " (26, 'Sanchez', 87, 'Arsenal'),\n",
       " (27, 'Ozil', 85, 'Arsenal'),\n",
       " (28, 'Chez', 82, 'Arsenal'),\n",
       " (29, 'Lacazette', 86, 'Arsenal'),\n",
       " (30, 'Ramsey', 85, 'Arsenal'),\n",
       " (31, 'Lewandoski', 88, 'Bayren Munich'),\n",
       " (32, 'Robben', 90, 'Bayren Munich'),\n",
       " (33, 'Nuyer', 92, 'Bayren Munich'),\n",
       " (34, 'Hummelz', 90, 'Bayren Munich'),\n",
       " (35, 'Muler', 89, 'Bayren Munich'),\n",
       " (36, 'Burki', 82, 'Dortmund'),\n",
       " (37, 'Gotze', 82, 'Dortmund'),\n",
       " (38, 'Rues', 90, 'Dortmund'),\n",
       " (39, 'Philip', 78, 'Dortmund'),\n",
       " (40, 'Castro', 84, 'Dortmund')]"
      ]
     },
     "execution_count": 61,
     "metadata": {},
     "output_type": "execute_result"
    }
   ],
   "source": [
    "import sqlite3 as sql\n",
    "connection = sql.connect(\"localdb\")\n",
    "cursor = connection.cursor()\n",
    "q = open(\"./queries.sql\").read()\n",
    "q = q.split(';')\n",
    "out = []\n",
    "for i in q:\n",
    "    out.append(i.replace('\\n', ''))\n",
    "try:\n",
    "    for line in out:\n",
    "        cursor.execute(line)\n",
    "    print(\"Executed successfully\")\n",
    "except:\n",
    "    pass\n",
    "res = cursor.execute(\"select * from Player\")\n",
    "res.fetchall()"
   ]
  },
  {
   "cell_type": "code",
   "execution_count": 11,
   "metadata": {},
   "outputs": [],
   "source": []
  },
  {
   "cell_type": "code",
   "execution_count": null,
   "metadata": {},
   "outputs": [],
   "source": []
  },
  {
   "cell_type": "code",
   "execution_count": null,
   "metadata": {
    "collapsed": true
   },
   "outputs": [],
   "source": []
  },
  {
   "cell_type": "code",
   "execution_count": 54,
   "metadata": {},
   "outputs": [],
   "source": []
  },
  {
   "cell_type": "code",
   "execution_count": 59,
   "metadata": {},
   "outputs": [],
   "source": []
  },
  {
   "cell_type": "code",
   "execution_count": 60,
   "metadata": {},
   "outputs": [
    {
     "data": {
      "text/plain": [
       "[(1, 'Ronaldo', 93, 'Real Madrid'),\n",
       " (2, 'Bale', 90, 'Real Madrid'),\n",
       " (3, 'Asensio', 82, 'Real Madrid'),\n",
       " (4, 'Navas', 83, 'Real Madrid'),\n",
       " (5, 'Ramos', 90, 'Real Madrid'),\n",
       " (6, 'Buffon', 89, 'Juventus'),\n",
       " (7, 'Cheillini', 82, 'Juventus'),\n",
       " (8, 'Higuain', 84, 'Juventus'),\n",
       " (9, 'Khedira', 86, 'Juventus'),\n",
       " (10, 'Rugani', 79, 'Juventus'),\n",
       " (11, 'Donnarumma', 82, 'A C Milan'),\n",
       " (12, 'Zapata', 84, 'A C Milan'),\n",
       " (13, 'Biglia', 79, 'A C Milan'),\n",
       " (14, 'Suso', 78, 'A C Milan'),\n",
       " (15, 'Borini', 78, 'A C Milan'),\n",
       " (16, 'Messi', 92, 'Barcelona'),\n",
       " (17, 'Bravo', 85, 'Barcelona'),\n",
       " (18, 'Pique', 86, 'Barcelona'),\n",
       " (19, 'Suarez', 90, 'Barcelona'),\n",
       " (20, 'Iniesta', 89, 'Barcelona'),\n",
       " (21, 'Zlatan', 91, 'Manchester United'),\n",
       " (22, 'Pogba', 86, 'Manchester United'),\n",
       " (23, 'Lukaku', 83, 'Manchester United'),\n",
       " (24, 'DeGea', 91, 'Manchester United'),\n",
       " (25, 'Fellani', 84, 'Manchester United'),\n",
       " (26, 'Sanchez', 87, 'Arsenal'),\n",
       " (27, 'Ozil', 85, 'Arsenal'),\n",
       " (28, 'Chez', 82, 'Arsenal'),\n",
       " (29, 'Lacazette', 86, 'Arsenal'),\n",
       " (30, 'Ramsey', 85, 'Arsenal'),\n",
       " (31, 'Lewandoski', 88, 'Bayren Munich'),\n",
       " (32, 'Robben', 90, 'Bayren Munich'),\n",
       " (33, 'Nuyer', 92, 'Bayren Munich'),\n",
       " (34, 'Hummelz', 90, 'Bayren Munich'),\n",
       " (35, 'Muler', 89, 'Bayren Munich'),\n",
       " (36, 'Burki', 82, 'Dortmund'),\n",
       " (37, 'Gotze', 82, 'Dortmund'),\n",
       " (38, 'Rues', 90, 'Dortmund'),\n",
       " (39, 'Philip', 78, 'Dortmund'),\n",
       " (40, 'Castro', 84, 'Dortmund')]"
      ]
     },
     "execution_count": 60,
     "metadata": {},
     "output_type": "execute_result"
    }
   ],
   "source": []
  },
  {
   "cell_type": "code",
   "execution_count": null,
   "metadata": {
    "collapsed": true
   },
   "outputs": [],
   "source": []
  },
  {
   "cell_type": "code",
   "execution_count": null,
   "metadata": {
    "collapsed": true
   },
   "outputs": [],
   "source": []
  },
  {
   "cell_type": "code",
   "execution_count": null,
   "metadata": {
    "collapsed": true
   },
   "outputs": [],
   "source": []
  },
  {
   "cell_type": "code",
   "execution_count": null,
   "metadata": {
    "collapsed": true
   },
   "outputs": [],
   "source": []
  },
  {
   "cell_type": "code",
   "execution_count": null,
   "metadata": {
    "collapsed": true
   },
   "outputs": [],
   "source": []
  },
  {
   "cell_type": "code",
   "execution_count": null,
   "metadata": {
    "collapsed": true
   },
   "outputs": [],
   "source": [
    "\n",
    "\n",
    "\n",
    "\n",
    "\n",
    "\n",
    "\n",
    "\n",
    "\n",
    "\n",
    "\n",
    "\n",
    "\n"
   ]
  }
 ],
 "metadata": {
  "kernelspec": {
   "display_name": "Python 3",
   "language": "python",
   "name": "python3"
  },
  "language_info": {
   "codemirror_mode": {
    "name": "ipython",
    "version": 3
   },
   "file_extension": ".py",
   "mimetype": "text/x-python",
   "name": "python",
   "nbconvert_exporter": "python",
   "pygments_lexer": "ipython3",
   "version": "3.5.2"
  }
 },
 "nbformat": 4,
 "nbformat_minor": 2
}
